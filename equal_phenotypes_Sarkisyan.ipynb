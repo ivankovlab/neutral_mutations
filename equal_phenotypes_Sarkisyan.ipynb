{
 "cells": [
  {
   "cell_type": "code",
   "execution_count": 4,
   "id": "e89465a0-95e3-4317-a9ce-e43603c07345",
   "metadata": {},
   "outputs": [],
   "source": [
    "# Convert GFP data from file 'by_aa.txt' to file 'by_aa_standard.txt':\n",
    "\n",
    "import csv\n",
    "\n",
    "aaMutations, std, size, brightness = 1, 2, 3, 4\n",
    "\n",
    "seq = 'SKGEELFTGVVPILVELDGDVNGHKFSVSGEGEGDATYGKLTLKFICTTGKLPVPWPTLVTTLSYGVQCFSRYPDHMKQHDFFKSAMPEGYVQERTIFFKDDGNYKTRAEVKFEGDTLVNRIELKGIDFKEDGNILGHKLEYNYNSHNVYIMADKQKNGIKVNFKIRHNIEDGSVQLADHYQQNTPIGDGPVLLPDNHYLSTQSALSKDPNEKRDHMVLLEFVTAAGITHGMDELYK'\n",
    "with open('by_aa_standard.txt', 'w') as f_st:\n",
    "    with open('sequences.txt', 'w') as f_seq:\n",
    "        print('mutations', 'fitness', 'std', 'size', 'sequence', file=f_st, sep='\\t')\n",
    "        with open('by_aa.txt') as f:\n",
    "            csv_reader = csv.reader(f, delimiter='\\t')\n",
    "            rows = f.readlines()\n",
    "#            row = rows[1]\n",
    "#            row.strip()\n",
    "            print(seq, file=f_seq)\n",
    "            print('wt', '3.7192121319050004', '0.10699178958770761', '3645', seq, file=f_st, sep='\\t')\n",
    "#            print('wt', row[brightness], row[std], row[size], seq, file=f_st, sep='\\t')\n",
    "            for row in rows[2:]:\n",
    "                row = row[0:-1]\n",
    "                row = row.split('\\t')\n",
    "                fields = row[aaMutations].split(':')\n",
    "                mutations = ''\n",
    "                mut_seq = seq\n",
    "                flag = False\n",
    "                for mut in fields:\n",
    "                    if mutations != '':\n",
    "                        mutations += ':'\n",
    "                    mutations += mut[1:]\n",
    "                    wt_aa, pos, mut_aa = mut[1], int(mut[2:-1]), mut[-1]\n",
    "                    if mut_aa == '*': # Comment if to consider nonsense mutations\n",
    "                        flag = True   # Comment if to consider nonsense mutations\n",
    "                        break         # Comment if to consider nonsense mutations\n",
    "                    mut_seq = mut_seq[0:pos] + mut_aa + mut_seq[pos + 1:]\n",
    "                if flag == True:      # Comment if to consider nonsense mutations\n",
    "                    continue          # Comment if to consider nonsense mutations\n",
    "                print(mut_seq, file=f_seq)\n",
    "                print(mutations, row[brightness], row[std], int(float(row[size])), mut_seq, file=f_st, sep='\\t')\n"
   ]
  },
  {
   "cell_type": "code",
   "execution_count": null,
   "id": "61337b37-aae0-4034-a163-5f06fb7878cc",
   "metadata": {},
   "outputs": [],
   "source": [
    "# Process equal-fitness genotypes (better run on cluster)"
   ]
  },
  {
   "cell_type": "code",
   "execution_count": null,
   "id": "3c650867-23cf-4bef-8161-387ad6b11c9f",
   "metadata": {},
   "outputs": [],
   "source": [
    "# Read GFP phenotypes into list\n",
    "phen = list()\n",
    "with open('by_aa_standard.txt') as f:\n",
    "    rows = f.readlines()\n",
    "    for line in rows[1:]:\n",
    "        line = line[0:-1]\n",
    "        fields = line.split('\\t')\n",
    "        phen.append(float(fields[1]))"
   ]
  },
  {
   "cell_type": "code",
   "execution_count": null,
   "id": "863711e6-6ea1-4dfa-aa5f-b6d982e67f55",
   "metadata": {},
   "outputs": [],
   "source": [
    "# Generate file 'phenDiff.txt' (24Gb), it takes long\n",
    "with open('phenDiff.txt', 'w') as f:\n",
    "    for i in range(0, len(phen)):\n",
    "        for j in range(i + 1, len(phen)):\n",
    "            print(abs(phen[j] - phen[i]), file=f)"
   ]
  },
  {
   "cell_type": "code",
   "execution_count": null,
   "id": "73a0bfdd-f9a7-40c6-b642-b040c1bedeca",
   "metadata": {},
   "outputs": [],
   "source": [
    "# Count genotype pairs with statistically indistinguishable fitness\n",
    "\n",
    "import math\n",
    "\n",
    "sigma = 0.10699178958770761 * math.sqrt(2)\n",
    "z0 = 1.96\n",
    "\n",
    "countSign, countNon = 0, 0\n",
    "with open('phenDiff.txt') as f:\n",
    "    for line in f:\n",
    "        d = float(line[0:-1])\n",
    "        if d/sigma > 1.96:\n",
    "            countSign += 1\n",
    "        else:\n",
    "            countNon += 1\n",
    "\n",
    "print(countSign, countNon, countSign + countNon, countSign/(countSign + countNon))"
   ]
  },
  {
   "cell_type": "code",
   "execution_count": null,
   "id": "e9a4b692-c650-43b9-a98a-bb7730e273be",
   "metadata": {},
   "outputs": [],
   "source": [
    "# Process single mutations"
   ]
  },
  {
   "cell_type": "code",
   "execution_count": 3,
   "id": "f61140dc-b071-4e31-8769-797fc9a4b10c",
   "metadata": {},
   "outputs": [],
   "source": [
    "# Read GFP g2p map into dictionary where keys are sequences, and values are fitnesses\n",
    "\n",
    "gen2phen = dict()\n",
    "gen2nr = dict()\n",
    "\n",
    "with open('by_aa_standard.txt') as f:\n",
    "    rows = f.readlines()\n",
    "    i = 0\n",
    "    for line in rows[1:]:\n",
    "        line = line[0:-1]\n",
    "        fields = line.split('\\t')\n",
    "        gen2phen[fields[4]] = float(fields[1])\n",
    "        gen2nr[fields[4]] = i\n",
    "        i += 1"
   ]
  },
  {
   "cell_type": "code",
   "execution_count": 5,
   "id": "0e9618c1-d2a2-41a3-bb87-34b47ca9dd71",
   "metadata": {},
   "outputs": [
    {
     "name": "stdout",
     "output_type": "stream",
     "text": [
      "28450 5558 34008 0.8365678663843802\n"
     ]
    }
   ],
   "source": [
    "# Count mutations statistically indistinguishable from neutral\n",
    "\n",
    "import math\n",
    "\n",
    "sigma = 0.10699178958770761 * math.sqrt(2)\n",
    "neutral, non_neutral = 0, 0\n",
    "with open('neutral.txt', 'w') as out:\n",
    "    with open('hypercubes/hypercubes_1.txt') as f:\n",
    "        for line in f:\n",
    "            line = line[0:-1]\n",
    "            mut, seq_final = line.split('\\t')\n",
    "            first, pos, second = mut[0], int(mut[1:-1]), mut[-1]\n",
    "            seq_initial = seq_final[0:pos] + first + seq_final[pos + 1:]\n",
    "            #print(len(seq_final), len(seq_initial), len(first))\n",
    "            #print(seq_final, seq_initial, first, pos, sep='\\n')\n",
    "\n",
    "            #f1 = gen2phen[seq_final]\n",
    "            #f2 = gen2phen[seq_initial]\n",
    "            if abs(gen2phen[seq_final] - gen2phen[seq_initial]) / sigma <= 1.96: \n",
    "                print(mut, 'ns', abs(gen2phen[seq_final] - gen2phen[seq_initial]), file=out)\n",
    "                neutral += 1\n",
    "            else:\n",
    "                print(mut, 's', abs(gen2phen[seq_final] - gen2phen[seq_initial]), file=out)\n",
    "                non_neutral += 1\n",
    "                \n",
    "print(neutral, non_neutral, neutral + non_neutral, neutral/(neutral + non_neutral))"
   ]
  }
 ],
 "metadata": {
  "kernelspec": {
   "display_name": "Python 3 (ipykernel)",
   "language": "python",
   "name": "python3"
  },
  "language_info": {
   "codemirror_mode": {
    "name": "ipython",
    "version": 3
   },
   "file_extension": ".py",
   "mimetype": "text/x-python",
   "name": "python",
   "nbconvert_exporter": "python",
   "pygments_lexer": "ipython3",
   "version": "3.12.7"
  }
 },
 "nbformat": 4,
 "nbformat_minor": 5
}
