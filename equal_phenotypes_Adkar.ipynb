{
 "cells": [
  {
   "cell_type": "code",
   "execution_count": 25,
   "id": "7adec6bf-bc64-42f2-9020-8b5593560c9b",
   "metadata": {},
   "outputs": [
    {
     "name": "stdout",
     "output_type": "stream",
     "text": [
      "1177 1177 1209\n"
     ]
    }
   ],
   "source": [
    "import csv\n",
    "\n",
    "muts = list()\n",
    "fitness = dict()\n",
    "position = dict()\n",
    "i = 0\n",
    "with open('Adkar.txt') as f:\n",
    "    csv_reader = csv.reader(f, delimiter='\\t')\n",
    "    rows = f.readlines()\n",
    "    fitness['wt'] = 2\n",
    "    position['wt'] = 0\n",
    "    i += 1\n",
    "    for row in rows[2:]:\n",
    "        row = row[:-1]\n",
    "        mut, f = row.split()\n",
    "        fitness[mut] = f\n",
    "        first, pos, second = mut[0], mut[1:-1], mut[-1]\n",
    "        position[mut] = pos\n",
    "        i += 1\n",
    "\n",
    "muts = list(fitness.keys())\n",
    "print(len(fitness), len(muts), i)"
   ]
  },
  {
   "cell_type": "code",
   "execution_count": 27,
   "id": "b763ff8b-e304-46d5-98b1-42227b508a9c",
   "metadata": {},
   "outputs": [
    {
     "name": "stdout",
     "output_type": "stream",
     "text": [
      "692076 331505 7916 3934\n"
     ]
    }
   ],
   "source": [
    "all, equal, single, neutral = 0, 0, 0, 0\n",
    "for i in range(len(muts)):\n",
    "    mut1 = muts[i]\n",
    "    for j in range(i + 1, len(muts)):\n",
    "        mut2 = muts[j]\n",
    "        all += 1\n",
    "        if fitness[mut1] == fitness[mut2]:\n",
    "            equal += 1\n",
    "        if mut1 == 'wt':\n",
    "            single += 1\n",
    "            if fitness[mut1] == fitness[mut2]:\n",
    "                neutral += 1\n",
    "        if position[mut1] == position[mut2]:\n",
    "            single += 1\n",
    "            if fitness[mut1] == fitness[mut2]:\n",
    "                neutral += 1\n",
    "\n",
    "print(all, equal, single, neutral)"
   ]
  }
 ],
 "metadata": {
  "kernelspec": {
   "display_name": "Python 3 (ipykernel)",
   "language": "python",
   "name": "python3"
  },
  "language_info": {
   "codemirror_mode": {
    "name": "ipython",
    "version": 3
   },
   "file_extension": ".py",
   "mimetype": "text/x-python",
   "name": "python",
   "nbconvert_exporter": "python",
   "pygments_lexer": "ipython3",
   "version": "3.12.7"
  }
 },
 "nbformat": 4,
 "nbformat_minor": 5
}
